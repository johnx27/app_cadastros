{
 "cells": [
  {
   "cell_type": "code",
   "execution_count": null,
   "metadata": {},
   "outputs": [],
   "source": [
    "# conexão com api do IBGE\n",
    "\n",
    "import requests\n",
    "url= \"https://servicodados.ibge.gov.br/api/v1/localidades/estados\"\n",
    "resposta= requests.get(url)\n",
    "print(resposta)"
   ]
  },
  {
   "cell_type": "code",
   "execution_count": null,
   "metadata": {},
   "outputs": [],
   "source": [
    "dt=resposta.json()\n",
    "dt\n",
    "\n"
   ]
  },
  {
   "cell_type": "code",
   "execution_count": null,
   "metadata": {},
   "outputs": [],
   "source": [
    "# convertendo um arqv json para data freme sem trataçaõ\n",
    "\n",
    "import requests\n",
    "import pandas as pd\n",
    "\n",
    "url=\"https://servicodados.ibge.gov.br/api/v1/localidades/estados\"\n",
    "resposta= requests.get(url)\n",
    "df= resposta.json()\n",
    "df= pd.DataFrame(df)\n",
    "df\n"
   ]
  },
  {
   "cell_type": "code",
   "execution_count": null,
   "metadata": {},
   "outputs": [],
   "source": [
    "# tratando o arquivo jason para normalizar no data freme\n",
    "# jason_normalize transform achave em valores e colunas em linhas\n",
    "\n",
    "import requests\n",
    "import pandas as pd\n",
    "\n",
    "url=\"https://servicodados.ibge.gov.br/api/v1/localidades/estados\"\n",
    "resposta= requests.get(url)\n",
    "df= resposta.json()\n",
    "df_normalize= pd.json_normalize(df)\n",
    "df_normalize\n",
    "\n"
   ]
  },
  {
   "cell_type": "code",
   "execution_count": null,
   "metadata": {},
   "outputs": [],
   "source": [
    "# LEVANDO API PARA O BANCO DE DADOS POSTGRES"
   ]
  },
  {
   "cell_type": "code",
   "execution_count": null,
   "metadata": {},
   "outputs": [],
   "source": [
    "colunas=['id',\n",
    "                'sigla', \n",
    "                'nome', \n",
    "                'regiao.id', \n",
    "                'regiao.sigla', \n",
    "                'regiao.nome']\n",
    "df_normalize[colunas].rename(columns={'regiao.id':'regiao_id','regiao.sigla':'regiao_sigla','regiao.nome':'regiao_nome'},inplace=True)\n",
    "\n"
   ]
  },
  {
   "cell_type": "code",
   "execution_count": null,
   "metadata": {},
   "outputs": [],
   "source": [
    "import psycopg2\n",
    "\n",
    "\n",
    "dbname   = 'python1'\n",
    "user     = 'postgres'\n",
    "password = '99695421'\n",
    "host     = 'localhost'\n",
    "port     = '5432' \n",
    "\n",
    "# Criar uma conexão\n",
    "conn = psycopg2.connect(dbname=dbname,\n",
    "                        user=user,\n",
    "                        password=password,\n",
    "                        host=host,\n",
    "                        port=port)\n",
    "\n",
    "cursor=conn.cursor()\n",
    "\n",
    "#deleta os dados antes de uma nova carga para nao acumular dados velhos\n",
    "cursor.execute(\" delete from public.teste10\")\n",
    "\n",
    "#carga de dados\n",
    "for indice,colunas in df_normalize.iterrows():\n",
    "    cursor.execute(\"\"\" INSERT INTO teste10(\n",
    "                id,\n",
    "                sigla, \n",
    "                nome \n",
    "                \n",
    "            ) VALUES(%s,%s,%s)\n",
    "                \n",
    "            \"\"\" ,(\n",
    "                colunas[\"id\"],\n",
    "                colunas[\"sigla\"],\n",
    "                colunas[\"nome\"]\n",
    "               \n",
    "            )\n",
    "                    \n",
    "                    \n",
    "                    \n",
    "            )\n",
    "    \n",
    "conn.commit()\n",
    "cursor.close()\n",
    "conn.close()"
   ]
  }
 ],
 "metadata": {
  "kernelspec": {
   "display_name": "Python 3",
   "language": "python",
   "name": "python3"
  },
  "language_info": {
   "codemirror_mode": {
    "name": "ipython",
    "version": 3
   },
   "file_extension": ".py",
   "mimetype": "text/x-python",
   "name": "python",
   "nbconvert_exporter": "python",
   "pygments_lexer": "ipython3",
   "version": "3.12.1"
  }
 },
 "nbformat": 4,
 "nbformat_minor": 2
}
